{
 "cells": [
  {
   "cell_type": "code",
   "execution_count": 1,
   "metadata": {},
   "outputs": [],
   "source": [
    "import numpy as np\n",
    "import pandas as pd\n",
    "import matplotlib.pyplot as plt\n",
    "import os\n",
    "%matplotlib inline"
   ]
  },
  {
   "cell_type": "code",
   "execution_count": 2,
   "metadata": {},
   "outputs": [
    {
     "name": "stdout",
     "output_type": "stream",
     "text": [
      "   user_id  item_id  rating  timestamp\n",
      "0      196      242       3  881250949\n",
      "1      186      302       3  891717742\n",
      "2       22      377       1  878887116\n",
      "3      244       51       2  880606923\n",
      "4      166      346       1  886397596\n"
     ]
    }
   ],
   "source": [
    "names = ['user_id', 'item_id', 'rating', 'timestamp']\n",
    "data = pd.read_csv(os.path.join('ml-100k/u.data'), '\\t', names=names, engine='python')\n",
    "print(data.head(5))"
   ]
  },
  {
   "cell_type": "code",
   "execution_count": 3,
   "metadata": {},
   "outputs": [],
   "source": [
    "def read_data_ml100k():\n",
    "    names = ['user_id', 'item_id', 'rating', 'timestamp']\n",
    "    data = pd.read_csv(os.path.join('ml-100k/u.data'), '\\t', names=names, engine='python')\n",
    "    num_users = data.user_id.unique().shape[0]\n",
    "    num_items = data.item_id.unique().shape[0]\n",
    "    return data, num_users, num_items"
   ]
  },
  {
   "cell_type": "code",
   "execution_count": 4,
   "metadata": {},
   "outputs": [],
   "source": [
    "def split_data_ml100k(data, num_users, num_items, split_mode='random', test_ratio=0.1):\n",
    "    if split_mode == 'seq-aware':\n",
    "        train_items, test_items, train_list = {}, {}, []\n",
    "        for line in data.itertuples():\n",
    "            u, i, rating, time = line[1], line[2], line[3], line[4]\n",
    "            train_items.setdefault(u, []).append((u, i, rating, time))\n",
    "            if u not in test_items or test_items[u][-1] < time:\n",
    "                test_items[u] = (i, rating, time)\n",
    "        for u in range(1, num_users + 1):\n",
    "            train_list.extend(sorted(train_items[u], key=lambda k: k[3]))\n",
    "        test_data = [(key, *value) for key, value in test_items.items()]\n",
    "        train_data = [item for item in train_list if item not in test_data]\n",
    "        train_data = pd.DataFrame(train_data)\n",
    "        test_data = pd.DataFrame(test_data)\n",
    "    else:\n",
    "        mask = [True if x == 1 else False for x in np.random.uniform( 0, 1, (len(data))) < 1 - test_ratio]\n",
    "        neg_mask = [not x for x in mask]\n",
    "        train_data, test_data = data[mask], data[neg_mask]\n",
    "    return train_data, test_data"
   ]
  },
  {
   "cell_type": "code",
   "execution_count": 5,
   "metadata": {},
   "outputs": [],
   "source": [
    "def load_data_ml100k(data, num_users, num_items, feedback='explicit'):\n",
    "    users, items, scores = [], [], []\n",
    "    inter = np.zeros((num_items, num_users)) if feedback == 'explicit' else {}\n",
    "    for line in data.itertuples():\n",
    "        user_index, item_index = int(line[1] - 1), int(line[2] - 1)\n",
    "        score = int(line[3]) if feedback == 'explicit' else 1\n",
    "        users.append(user_index)\n",
    "        items.append(item_index)\n",
    "        scores.append(score)\n",
    "        if feedback == 'implicit':\n",
    "            inter.setdefault(user_index, []).append(item_index)\n",
    "        else:\n",
    "            inter[item_index, user_index] = score\n",
    "    return users, items, scores, inter"
   ]
  },
  {
   "cell_type": "code",
   "execution_count": 6,
   "metadata": {},
   "outputs": [],
   "source": [
    "from torch.utils.data.dataset import Dataset\n",
    "from torch.utils.data import DataLoader"
   ]
  },
  {
   "cell_type": "code",
   "execution_count": 7,
   "metadata": {},
   "outputs": [],
   "source": [
    "class movieDataset(Dataset):\n",
    "    def __init__(self, train_u, train_i, train_r):\n",
    "        \n",
    "        self.train_u = np.array(train_u)\n",
    "        self.train_i = np.array(train_i)\n",
    "        self.train_r = np.array(train_r)\n",
    "        self.length = len(train_u)\n",
    "        \n",
    "    def __getitem__(self, index):\n",
    "        \n",
    "#         u = torch.LongTensor(self.train_u[index])\n",
    "#         i = torch.LongTensor(self.train_i[index])\n",
    "#         r = torch.LongTensor(self.train_r[index])\n",
    "        \n",
    "        u = self.train_u[index]\n",
    "        i = self.train_i[index]\n",
    "        r = self.train_r[index]\n",
    "        \n",
    "        return u, i, r\n",
    "\n",
    "    def __len__(self):\n",
    "\n",
    "        return self.length"
   ]
  },
  {
   "cell_type": "code",
   "execution_count": 8,
   "metadata": {},
   "outputs": [],
   "source": [
    "split_mode='seq-aware'\n",
    "feedback='explicit'\n",
    "test_ratio=0.1\n",
    "batch_size=256\n",
    "    \n",
    "data, num_users, num_items = read_data_ml100k()\n",
    "\n",
    "train_data, test_data = split_data_ml100k(data, num_users, num_items, split_mode, test_ratio)\n",
    "\n",
    "train_u, train_i, train_r, _ = load_data_ml100k(train_data, num_users, num_items, feedback)\n",
    "test_u, test_i, test_r, _ = load_data_ml100k(test_data, num_users, num_items, feedback)\n",
    "\n",
    "train_set = movieDataset(train_u, train_i, train_r)\n",
    "test_set = movieDataset(test_u, test_i, test_r)\n",
    "\n",
    "train_iter = DataLoader(train_set, shuffle=True, batch_size=batch_size)\n",
    "test_iter = DataLoader(test_set, batch_size=batch_size)\n",
    "    \n"
   ]
  },
  {
   "cell_type": "code",
   "execution_count": 9,
   "metadata": {},
   "outputs": [],
   "source": [
    "import torch.nn as nn\n",
    "import torch.nn.functional as F\n",
    "import torch.optim as optim\n",
    "import torch"
   ]
  },
  {
   "cell_type": "markdown",
   "metadata": {},
   "source": [
    "deepfm : https://d2l.ai/chapter_recommender-systems/deepfm.html"
   ]
  },
  {
   "cell_type": "code",
   "execution_count": 10,
   "metadata": {},
   "outputs": [
    {
     "data": {
      "text/plain": [
       "array([  0,   0,   0, ..., 942, 942, 942])"
      ]
     },
     "execution_count": 10,
     "metadata": {},
     "output_type": "execute_result"
    }
   ],
   "source": [
    "train_set.train_u"
   ]
  },
  {
   "cell_type": "code",
   "execution_count": 11,
   "metadata": {},
   "outputs": [
    {
     "data": {
      "text/plain": [
       "array([167, 171, 164, ..., 228, 229, 227])"
      ]
     },
     "execution_count": 11,
     "metadata": {},
     "output_type": "execute_result"
    }
   ],
   "source": [
    "train_set.train_i"
   ]
  },
  {
   "cell_type": "code",
   "execution_count": 12,
   "metadata": {},
   "outputs": [
    {
     "data": {
      "text/plain": [
       "array([5, 5, 5, ..., 2, 1, 3])"
      ]
     },
     "execution_count": 12,
     "metadata": {},
     "output_type": "execute_result"
    }
   ],
   "source": [
    "train_set.train_r"
   ]
  },
  {
   "cell_type": "code",
   "execution_count": 13,
   "metadata": {},
   "outputs": [
    {
     "name": "stdout",
     "output_type": "stream",
     "text": [
      "torch.Size([256]) torch.Size([256]) torch.Size([256])\n",
      "tensor([797, 728, 787, 247, 760, 647, 570, 373, 534, 633,   0, 136, 357, 641,\n",
      "        804, 174, 895, 484, 591, 598, 486, 390, 333, 505,  12, 266, 434,  12,\n",
      "        542, 822, 281, 189, 202, 222, 185,  74,  57, 326, 268, 377, 502, 850,\n",
      "         47, 839, 822, 835, 547, 267, 290,  39, 362, 822, 289, 391, 709, 660,\n",
      "        804, 275, 592, 891, 176, 505, 465, 677,  12, 150, 312, 384, 738, 360,\n",
      "        397, 547, 383,  22, 536, 683, 502, 377, 592,  12, 312, 762, 360, 710,\n",
      "        587, 612, 652,  57, 542, 398, 421, 891, 415, 587, 233, 486, 275,  89,\n",
      "        325, 226, 274,  82, 797,  50, 594, 485, 626, 164,  25, 346, 218, 250,\n",
      "        811, 928, 863,  57, 384, 722, 129, 789,  94, 313, 565, 765, 416, 690,\n",
      "        119,  49, 928, 489, 373, 689, 738, 129, 155, 550, 327, 877, 415, 261,\n",
      "        488, 307, 305, 862, 935,   4,   0, 536, 473, 270, 405, 358, 307, 797,\n",
      "        475, 765, 353, 311, 318, 268, 207, 455, 602, 896, 486,  40, 511, 381,\n",
      "        471, 353,  18, 863,  62,  73, 658, 913, 663,  55, 653, 118, 415, 845,\n",
      "        687, 307, 591, 150, 714,  48, 298, 362, 795, 853, 188, 891, 208, 323,\n",
      "        586, 889, 453, 807, 268, 217, 785, 889, 312, 377, 410, 408, 720, 876,\n",
      "         51, 305, 716, 157,  64, 756, 209, 238, 891, 618, 365, 724, 616, 429,\n",
      "        628, 548, 220, 663, 302, 703, 275, 617, 942, 850, 301, 317,  70, 893,\n",
      "        108,  57, 787, 863, 931, 531, 620, 873, 792, 253, 499, 517,  58, 891,\n",
      "        304, 692, 342, 803], dtype=torch.int32) tensor([ 279,  337, 1041,  322,  876,  202,  356,  466,  128,  108,   21,  120,\n",
      "         637,  950,  594,   30,  152,  345,   27,  110,  366,  529,  548,  513,\n",
      "         630,   28,  648,  399,  117,  565,  339,  244,  889,  251,  405,  819,\n",
      "         691,  874,  714,  395,   25,  249,  265,  462,  236,   88,  596,   71,\n",
      "           8,  271,  448,  110,  152,  196,  873,  761,  451,  127,   49,  226,\n",
      "          88,  462,  120, 1114,  634,  428,  236,  207,  968,   97,  230,   16,\n",
      "         312,  779,  627,  375,  513,   93,  660,  817,  615,   86,  167,  715,\n",
      "         730,  477,  181, 1098, 1158,  696,  562,  173,  314,  418,  516,  454,\n",
      "         472,  142,  143,  404,  141,  233,  929,  209,  303,  219,  561,  155,\n",
      "         293,   76,  881,   54,  288,  133,   63,   63,  443,  288,  187,  138,\n",
      "         293,  411,  574,   22,  387,  293,  244,  252,  473,  150,  818,  762,\n",
      "          54,  267,  186,   41,   21,  164,  929,  237,  357,  282,  305, 1293,\n",
      "         242,  108,  103,  844,  548, 1116,  206,  830,  176,  431,  200,  132,\n",
      "         609,  556,  345,  134,   65,  788,  179,  377,  545,  174, 1458,  150,\n",
      "         422,  479,  318, 1139,  761,  267,  466, 1405,  508,  173,   65,  104,\n",
      "         878,  301,  358,  653,  337,  530,   32,  417,  512,  804,  237,  854,\n",
      "         653,  215,  407,    8,  681,    6,  747,  285,  404,  590,  428,  434,\n",
      "         332,  442, 1474,  964,  456,  240,  236,  268, 1010,  592,  201,  116,\n",
      "         152,  497,  968,   21,   52,   99,  530, 1006,  126,  257,   11,  527,\n",
      "         115,  208,  108,  659,  217,  817,  302,  481,    5,  164,  939,  119,\n",
      "          95,  799,  140,  116,  175,  274,  247,  342,    0,  283,  490,  541,\n",
      "         164,  377,  316,  553], dtype=torch.int32) tensor([2, 1, 3, 1, 2, 1, 4, 4, 5, 4, 4, 5, 3, 3, 3, 4, 4, 4, 4, 5, 3, 5, 4, 5,\n",
      "        3, 3, 3, 4, 3, 4, 3, 4, 2, 1, 1, 3, 2, 4, 4, 4, 2, 5, 3, 5, 4, 4, 4, 3,\n",
      "        5, 2, 3, 4, 3, 5, 3, 2, 3, 4, 4, 4, 5, 3, 3, 3, 1, 5, 2, 3, 1, 5, 2, 3,\n",
      "        5, 1, 2, 3, 3, 3, 2, 3, 5, 2, 4, 5, 2, 5, 3, 2, 5, 2, 3, 5, 3, 5, 3, 2,\n",
      "        4, 5, 5, 2, 2, 4, 5, 4, 3, 3, 2, 3, 3, 5, 3, 3, 1, 4, 5, 5, 1, 2, 4, 2,\n",
      "        2, 3, 1, 4, 3, 4, 3, 5, 4, 1, 3, 4, 1, 4, 5, 5, 5, 4, 3, 4, 5, 3, 5, 4,\n",
      "        2, 5, 1, 2, 5, 3, 2, 3, 5, 4, 4, 3, 4, 5, 3, 4, 4, 3, 4, 5, 3, 5, 4, 4,\n",
      "        5, 4, 4, 1, 3, 3, 3, 4, 4, 5, 4, 2, 3, 5, 5, 5, 2, 3, 3, 3, 4, 4, 3, 4,\n",
      "        3, 5, 4, 5, 3, 4, 4, 4, 1, 3, 4, 5, 4, 4, 3, 2, 3, 4, 4, 5, 4, 4, 4, 4,\n",
      "        5, 4, 4, 5, 5, 5, 2, 3, 5, 5, 5, 5, 5, 3, 4, 3, 4, 2, 2, 5, 3, 4, 3, 2,\n",
      "        3, 1, 4, 5, 3, 4, 4, 2, 4, 4, 4, 1, 4, 2, 5, 2], dtype=torch.int32)\n"
     ]
    }
   ],
   "source": [
    "for i,j,k in train_iter:\n",
    "    print(i.size(),j.size(),k.size())\n",
    "    print(i,j,k)\n",
    "    break"
   ]
  },
  {
   "cell_type": "code",
   "execution_count": 61,
   "metadata": {},
   "outputs": [],
   "source": [
    "class MF(nn.Module):\n",
    "    def __init__(self, num_factors, num_users, num_items, **kwargs):\n",
    "        super().__init__()\n",
    "        self.P = nn.Embedding(num_users, num_factors)\n",
    "        self.Q = nn.Embedding(num_items, num_factors)\n",
    "        self.user_bias = nn.Embedding(num_users, 1)\n",
    "        self.item_bias = nn.Embedding(num_items, 1)\n",
    "\n",
    "    def forward(self, user_id, item_id):\n",
    "        P_u = self.P(user_id)\n",
    "        Q_i = self.Q(item_id)\n",
    "        b_u = self.user_bias(user_id)\n",
    "        b_i = self.item_bias(item_id)\n",
    "        \n",
    "        outputs = (P_u * Q_i).sum(axis=1) + np.squeeze(b_u) + np.squeeze(b_i)\n",
    "        outputs =  outputs.flatten()\n",
    "\n",
    "        return outputs\n",
    "    \n",
    "    def get_score(self, x, y):\n",
    "        user_id = torch.Tensor(np.array([x])).type(torch.LongTensor).cuda()\n",
    "        item_id = torch.Tensor(np.array([y])).type(torch.LongTensor).cuda()\n",
    "        P_u = self.P(user_id)\n",
    "        Q_i = self.Q(item_id)\n",
    "        b_u = self.user_bias(user_id)\n",
    "        b_i = self.item_bias(item_id)\n",
    "        \n",
    "        outputs = (P_u * Q_i).sum(axis=1) + np.squeeze(b_u) + np.squeeze(b_i)\n",
    "        outputs =  outputs.flatten()\n",
    "\n",
    "        return outputs"
   ]
  },
  {
   "cell_type": "code",
   "execution_count": 62,
   "metadata": {},
   "outputs": [],
   "source": [
    "model = MF(5, num_users, num_items).cuda()\n",
    "optimizer = optim.Adam(model.parameters(), lr=0.02)\n",
    "loss_fn = torch.nn.MSELoss()"
   ]
  },
  {
   "cell_type": "code",
   "execution_count": 63,
   "metadata": {},
   "outputs": [
    {
     "data": {
      "text/plain": [
       "MF(\n",
       "  (P): Embedding(943, 5)\n",
       "  (Q): Embedding(1682, 5)\n",
       "  (user_bias): Embedding(943, 1)\n",
       "  (item_bias): Embedding(1682, 1)\n",
       ")"
      ]
     },
     "execution_count": 63,
     "metadata": {},
     "output_type": "execute_result"
    }
   ],
   "source": [
    "model"
   ]
  },
  {
   "cell_type": "code",
   "execution_count": 64,
   "metadata": {},
   "outputs": [
    {
     "name": "stdout",
     "output_type": "stream",
     "text": [
      "1 1.9258922338485718\n",
      "2 1.0360578298568726\n",
      "3 0.9582760334014893\n",
      "4 0.9022576808929443\n",
      "5 0.7426514029502869\n",
      "6 0.8963865041732788\n",
      "7 0.7419942617416382\n",
      "8 0.7975097298622131\n",
      "9 0.7570343017578125\n",
      "10 0.688805341720581\n",
      "11 0.8349044322967529\n",
      "12 0.6888463497161865\n",
      "13 0.8100711703300476\n",
      "14 0.6979689598083496\n",
      "15 0.8512730002403259\n",
      "16 0.7314725518226624\n",
      "17 0.8113701939582825\n",
      "18 0.6908893585205078\n",
      "19 0.8254406452178955\n",
      "20 0.761676013469696\n"
     ]
    }
   ],
   "source": [
    "epoch = 20\n",
    "\n",
    "for e in range(epoch):\n",
    "\n",
    "    for i,j,k in train_iter:\n",
    "        \n",
    "        optimizer.zero_grad()\n",
    "        \n",
    "        output = model(i.type(torch.LongTensor).cuda(), j.type(torch.LongTensor).cuda())\n",
    "\n",
    "        loss = loss_fn(output,k.type(torch.FloatTensor).cuda())\n",
    "        \n",
    "        loss.backward()\n",
    "\n",
    "        optimizer.step()\n",
    "   \n",
    "    print(e + 1, float(loss))"
   ]
  },
  {
   "cell_type": "code",
   "execution_count": 65,
   "metadata": {},
   "outputs": [
    {
     "data": {
      "text/plain": [
       "tensor([3.3228], device='cuda:0', grad_fn=<AddBackward0>)"
      ]
     },
     "execution_count": 65,
     "metadata": {},
     "output_type": "execute_result"
    }
   ],
   "source": [
    "scores = model.get_score(20,30)\n",
    "scores"
   ]
  },
  {
   "cell_type": "code",
   "execution_count": 66,
   "metadata": {},
   "outputs": [
    {
     "data": {
      "text/plain": [
       "tensor([2.7222], device='cuda:0', grad_fn=<AddBackward0>)"
      ]
     },
     "execution_count": 66,
     "metadata": {},
     "output_type": "execute_result"
    }
   ],
   "source": [
    "scores = model.get_score(20,50)\n",
    "scores"
   ]
  },
  {
   "cell_type": "code",
   "execution_count": 68,
   "metadata": {},
   "outputs": [
    {
     "name": "stdout",
     "output_type": "stream",
     "text": [
      "1.2432507872581482\n"
     ]
    }
   ],
   "source": [
    "average_loss = 0.0\n",
    "count = 0\n",
    "\n",
    "for i,j,k in test_iter:\n",
    "    output = model(i.type(torch.LongTensor).cuda(), j.type(torch.LongTensor).cuda())\n",
    "    \n",
    "    loss = loss_fn(output,k.type(torch.FloatTensor).cuda())\n",
    "    count+=1\n",
    "    average_loss+=float(loss)\n",
    "    \n",
    "print(average_loss/count)"
   ]
  },
  {
   "cell_type": "code",
   "execution_count": null,
   "metadata": {},
   "outputs": [],
   "source": []
  }
 ],
 "metadata": {
  "kernelspec": {
   "display_name": "Python 3",
   "language": "python",
   "name": "python3"
  },
  "language_info": {
   "codemirror_mode": {
    "name": "ipython",
    "version": 3
   },
   "file_extension": ".py",
   "mimetype": "text/x-python",
   "name": "python",
   "nbconvert_exporter": "python",
   "pygments_lexer": "ipython3",
   "version": "3.7.6"
  }
 },
 "nbformat": 4,
 "nbformat_minor": 4
}
