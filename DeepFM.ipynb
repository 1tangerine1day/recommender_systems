{
 "cells": [
  {
   "cell_type": "code",
   "execution_count": 1,
   "metadata": {},
   "outputs": [],
   "source": [
    "import numpy as np\n",
    "import pandas as pd\n",
    "import matplotlib.pyplot as plt\n",
    "import os"
   ]
  },
  {
   "cell_type": "markdown",
   "metadata": {},
   "source": [
    "data : https://www.kaggle.com/c/porto-seguro-safe-driver-prediction/data?select=train.csv"
   ]
  },
  {
   "cell_type": "code",
   "execution_count": 56,
   "metadata": {},
   "outputs": [],
   "source": [
    "# ind, reg, car, calc\n",
    "# ind是与司机个人相关的特征/reg是地区相关的特征/car是汽车相关的特征/calc则是其他通过计算或估计得到的特征\n",
    "# bin : binary features \n",
    "# cat : indicate categorical features\n",
    "df = pd.read_csv('train.csv')"
   ]
  },
  {
   "cell_type": "code",
   "execution_count": 57,
   "metadata": {},
   "outputs": [
    {
     "data": {
      "text/plain": [
       "595212"
      ]
     },
     "execution_count": 57,
     "metadata": {},
     "output_type": "execute_result"
    }
   ],
   "source": [
    "len(df)"
   ]
  },
  {
   "cell_type": "code",
   "execution_count": 58,
   "metadata": {},
   "outputs": [
    {
     "data": {
      "text/html": [
       "<div>\n",
       "<style scoped>\n",
       "    .dataframe tbody tr th:only-of-type {\n",
       "        vertical-align: middle;\n",
       "    }\n",
       "\n",
       "    .dataframe tbody tr th {\n",
       "        vertical-align: top;\n",
       "    }\n",
       "\n",
       "    .dataframe thead th {\n",
       "        text-align: right;\n",
       "    }\n",
       "</style>\n",
       "<table border=\"1\" class=\"dataframe\">\n",
       "  <thead>\n",
       "    <tr style=\"text-align: right;\">\n",
       "      <th></th>\n",
       "      <th>id</th>\n",
       "      <th>target</th>\n",
       "      <th>ps_ind_01</th>\n",
       "      <th>ps_ind_02_cat</th>\n",
       "      <th>ps_ind_03</th>\n",
       "      <th>ps_ind_04_cat</th>\n",
       "      <th>ps_ind_05_cat</th>\n",
       "      <th>ps_ind_06_bin</th>\n",
       "      <th>ps_ind_07_bin</th>\n",
       "      <th>ps_ind_08_bin</th>\n",
       "      <th>...</th>\n",
       "      <th>ps_calc_11</th>\n",
       "      <th>ps_calc_12</th>\n",
       "      <th>ps_calc_13</th>\n",
       "      <th>ps_calc_14</th>\n",
       "      <th>ps_calc_15_bin</th>\n",
       "      <th>ps_calc_16_bin</th>\n",
       "      <th>ps_calc_17_bin</th>\n",
       "      <th>ps_calc_18_bin</th>\n",
       "      <th>ps_calc_19_bin</th>\n",
       "      <th>ps_calc_20_bin</th>\n",
       "    </tr>\n",
       "  </thead>\n",
       "  <tbody>\n",
       "    <tr>\n",
       "      <th>0</th>\n",
       "      <td>7</td>\n",
       "      <td>0</td>\n",
       "      <td>2</td>\n",
       "      <td>2</td>\n",
       "      <td>5</td>\n",
       "      <td>1</td>\n",
       "      <td>0</td>\n",
       "      <td>0</td>\n",
       "      <td>1</td>\n",
       "      <td>0</td>\n",
       "      <td>...</td>\n",
       "      <td>9</td>\n",
       "      <td>1</td>\n",
       "      <td>5</td>\n",
       "      <td>8</td>\n",
       "      <td>0</td>\n",
       "      <td>1</td>\n",
       "      <td>1</td>\n",
       "      <td>0</td>\n",
       "      <td>0</td>\n",
       "      <td>1</td>\n",
       "    </tr>\n",
       "    <tr>\n",
       "      <th>1</th>\n",
       "      <td>9</td>\n",
       "      <td>0</td>\n",
       "      <td>1</td>\n",
       "      <td>1</td>\n",
       "      <td>7</td>\n",
       "      <td>0</td>\n",
       "      <td>0</td>\n",
       "      <td>0</td>\n",
       "      <td>0</td>\n",
       "      <td>1</td>\n",
       "      <td>...</td>\n",
       "      <td>3</td>\n",
       "      <td>1</td>\n",
       "      <td>1</td>\n",
       "      <td>9</td>\n",
       "      <td>0</td>\n",
       "      <td>1</td>\n",
       "      <td>1</td>\n",
       "      <td>0</td>\n",
       "      <td>1</td>\n",
       "      <td>0</td>\n",
       "    </tr>\n",
       "    <tr>\n",
       "      <th>2</th>\n",
       "      <td>13</td>\n",
       "      <td>0</td>\n",
       "      <td>5</td>\n",
       "      <td>4</td>\n",
       "      <td>9</td>\n",
       "      <td>1</td>\n",
       "      <td>0</td>\n",
       "      <td>0</td>\n",
       "      <td>0</td>\n",
       "      <td>1</td>\n",
       "      <td>...</td>\n",
       "      <td>4</td>\n",
       "      <td>2</td>\n",
       "      <td>7</td>\n",
       "      <td>7</td>\n",
       "      <td>0</td>\n",
       "      <td>1</td>\n",
       "      <td>1</td>\n",
       "      <td>0</td>\n",
       "      <td>1</td>\n",
       "      <td>0</td>\n",
       "    </tr>\n",
       "    <tr>\n",
       "      <th>3</th>\n",
       "      <td>16</td>\n",
       "      <td>0</td>\n",
       "      <td>0</td>\n",
       "      <td>1</td>\n",
       "      <td>2</td>\n",
       "      <td>0</td>\n",
       "      <td>0</td>\n",
       "      <td>1</td>\n",
       "      <td>0</td>\n",
       "      <td>0</td>\n",
       "      <td>...</td>\n",
       "      <td>2</td>\n",
       "      <td>2</td>\n",
       "      <td>4</td>\n",
       "      <td>9</td>\n",
       "      <td>0</td>\n",
       "      <td>0</td>\n",
       "      <td>0</td>\n",
       "      <td>0</td>\n",
       "      <td>0</td>\n",
       "      <td>0</td>\n",
       "    </tr>\n",
       "    <tr>\n",
       "      <th>4</th>\n",
       "      <td>17</td>\n",
       "      <td>0</td>\n",
       "      <td>0</td>\n",
       "      <td>2</td>\n",
       "      <td>0</td>\n",
       "      <td>1</td>\n",
       "      <td>0</td>\n",
       "      <td>1</td>\n",
       "      <td>0</td>\n",
       "      <td>0</td>\n",
       "      <td>...</td>\n",
       "      <td>3</td>\n",
       "      <td>1</td>\n",
       "      <td>1</td>\n",
       "      <td>3</td>\n",
       "      <td>0</td>\n",
       "      <td>0</td>\n",
       "      <td>0</td>\n",
       "      <td>1</td>\n",
       "      <td>1</td>\n",
       "      <td>0</td>\n",
       "    </tr>\n",
       "  </tbody>\n",
       "</table>\n",
       "<p>5 rows × 59 columns</p>\n",
       "</div>"
      ],
      "text/plain": [
       "   id  target  ps_ind_01  ps_ind_02_cat  ps_ind_03  ps_ind_04_cat  \\\n",
       "0   7       0          2              2          5              1   \n",
       "1   9       0          1              1          7              0   \n",
       "2  13       0          5              4          9              1   \n",
       "3  16       0          0              1          2              0   \n",
       "4  17       0          0              2          0              1   \n",
       "\n",
       "   ps_ind_05_cat  ps_ind_06_bin  ps_ind_07_bin  ps_ind_08_bin  ...  \\\n",
       "0              0              0              1              0  ...   \n",
       "1              0              0              0              1  ...   \n",
       "2              0              0              0              1  ...   \n",
       "3              0              1              0              0  ...   \n",
       "4              0              1              0              0  ...   \n",
       "\n",
       "   ps_calc_11  ps_calc_12  ps_calc_13  ps_calc_14  ps_calc_15_bin  \\\n",
       "0           9           1           5           8               0   \n",
       "1           3           1           1           9               0   \n",
       "2           4           2           7           7               0   \n",
       "3           2           2           4           9               0   \n",
       "4           3           1           1           3               0   \n",
       "\n",
       "   ps_calc_16_bin  ps_calc_17_bin  ps_calc_18_bin  ps_calc_19_bin  \\\n",
       "0               1               1               0               0   \n",
       "1               1               1               0               1   \n",
       "2               1               1               0               1   \n",
       "3               0               0               0               0   \n",
       "4               0               0               1               1   \n",
       "\n",
       "   ps_calc_20_bin  \n",
       "0               1  \n",
       "1               0  \n",
       "2               0  \n",
       "3               0  \n",
       "4               0  \n",
       "\n",
       "[5 rows x 59 columns]"
      ]
     },
     "execution_count": 58,
     "metadata": {},
     "output_type": "execute_result"
    }
   ],
   "source": [
    "df.head()"
   ]
  },
  {
   "cell_type": "code",
   "execution_count": 59,
   "metadata": {},
   "outputs": [
    {
     "data": {
      "text/plain": [
       "0"
      ]
     },
     "execution_count": 59,
     "metadata": {},
     "output_type": "execute_result"
    }
   ],
   "source": [
    "df['target'][10]"
   ]
  },
  {
   "cell_type": "code",
   "execution_count": 60,
   "metadata": {},
   "outputs": [
    {
     "data": {
      "text/plain": [
       "595212"
      ]
     },
     "execution_count": 60,
     "metadata": {},
     "output_type": "execute_result"
    }
   ],
   "source": [
    "len(df)"
   ]
  },
  {
   "cell_type": "code",
   "execution_count": 62,
   "metadata": {},
   "outputs": [
    {
     "name": "stdout",
     "output_type": "stream",
     "text": [
      "id\n",
      "target\n",
      "ps_ind_01\n",
      "ps_ind_02_cat\n",
      "ps_ind_03\n",
      "ps_ind_04_cat\n",
      "ps_ind_05_cat\n",
      "ps_ind_06_bin\n",
      "ps_ind_07_bin\n",
      "ps_ind_08_bin\n",
      "ps_ind_09_bin\n",
      "ps_ind_10_bin\n",
      "ps_ind_11_bin\n",
      "ps_ind_12_bin\n",
      "ps_ind_13_bin\n",
      "ps_ind_14\n",
      "ps_ind_15\n",
      "ps_ind_16_bin\n",
      "ps_ind_17_bin\n",
      "ps_ind_18_bin\n",
      "ps_reg_01\n",
      "ps_reg_02\n",
      "ps_reg_03\n",
      "ps_car_01_cat\n",
      "ps_car_02_cat\n",
      "ps_car_03_cat\n",
      "ps_car_04_cat\n",
      "ps_car_05_cat\n",
      "ps_car_06_cat\n",
      "ps_car_07_cat\n",
      "ps_car_08_cat\n",
      "ps_car_09_cat\n",
      "ps_car_10_cat\n",
      "ps_car_11_cat\n",
      "ps_car_11\n",
      "ps_car_12\n",
      "ps_car_13\n",
      "ps_car_14\n",
      "ps_car_15\n",
      "ps_calc_01\n",
      "ps_calc_02\n",
      "ps_calc_03\n",
      "ps_calc_04\n",
      "ps_calc_05\n",
      "ps_calc_06\n",
      "ps_calc_07\n",
      "ps_calc_08\n",
      "ps_calc_09\n",
      "ps_calc_10\n",
      "ps_calc_11\n",
      "ps_calc_12\n",
      "ps_calc_13\n",
      "ps_calc_14\n",
      "ps_calc_15_bin\n",
      "ps_calc_16_bin\n",
      "ps_calc_17_bin\n",
      "ps_calc_18_bin\n",
      "ps_calc_19_bin\n",
      "ps_calc_20_bin\n"
     ]
    },
    {
     "data": {
      "text/plain": [
       "595212"
      ]
     },
     "execution_count": 62,
     "metadata": {},
     "output_type": "execute_result"
    }
   ],
   "source": [
    "for col in df.columns: \n",
    "    print(col) \n",
    "    df = df[df[col].notnull()]\n",
    "len(df)"
   ]
  },
  {
   "cell_type": "code",
   "execution_count": 266,
   "metadata": {},
   "outputs": [],
   "source": [
    "from torch.utils.data.dataset import Dataset\n",
    "from torch.utils.data import DataLoader\n",
    "\n",
    "import torch.nn as nn\n",
    "import torch.nn.functional as F\n",
    "import torch.optim as optim\n",
    "import torch\n",
    "\n",
    "# device = torch.device('cuda' if torch.cuda.is_available() else 'cpu')#CUDA error: device-side assert triggered\n",
    "device = torch.device('cpu')"
   ]
  },
  {
   "cell_type": "code",
   "execution_count": 122,
   "metadata": {},
   "outputs": [],
   "source": [
    "class insuranceDataset(Dataset):\n",
    "    def __init__(self, csv_data):\n",
    "        \n",
    "        self.dataset = csv_data\n",
    "        self.length  = len(csv_data)\n",
    "\n",
    "    def __getitem__(self, index):\n",
    "        user = 0\n",
    "        target = 0\n",
    "        ps_ind = []\n",
    "        ps_reg = []\n",
    "        ps_car = []\n",
    "        ps_calc =[]\n",
    "        \n",
    "        for col in df.columns: \n",
    "            if 'id' in col:\n",
    "                user = int(self.dataset[col][index])\n",
    "                \n",
    "            if 'target' in col:\n",
    "                target = int(self.dataset[col][index])\n",
    "                \n",
    "            if '_bin' in col:\n",
    "                if 'ps_ind' in col:\n",
    "                    ps_ind.append(self.dataset[col][index])\n",
    "                elif 'ps_reg' in col:\n",
    "                    ps_reg.append(self.dataset[col][index])\n",
    "                elif 'ps_car' in col:\n",
    "                    ps_car.append(self.dataset[col][index])\n",
    "                elif 'ps_calc' in col:\n",
    "                    ps_calc.append(self.dataset[col][index])\n",
    "                else:\n",
    "                    print(\"error\")\n",
    "\n",
    "        ps_ind = torch.Tensor(ps_ind).to(device)\n",
    "        ps_car = torch.Tensor(ps_car).to(device)\n",
    "        ps_reg = torch.Tensor(ps_reg).to(device)\n",
    "        ps_calc = torch.Tensor(ps_calc).to(device)\n",
    "        \n",
    "        return target, ps_ind, ps_car, ps_reg, ps_calc\n",
    "\n",
    "    def __len__(self):\n",
    "\n",
    "        return self.length"
   ]
  },
  {
   "cell_type": "code",
   "execution_count": 123,
   "metadata": {},
   "outputs": [],
   "source": [
    "#595212\n",
    "train_set = insuranceDataset(df[500000:].reset_index(drop=True))"
   ]
  },
  {
   "cell_type": "code",
   "execution_count": 124,
   "metadata": {},
   "outputs": [
    {
     "data": {
      "text/plain": [
       "(0,\n",
       " tensor([1., 0., 0., 0., 0., 0., 0., 0., 1., 0., 0.]),\n",
       " tensor([]),\n",
       " tensor([]),\n",
       " tensor([0., 1., 0., 0., 0., 1.]))"
      ]
     },
     "execution_count": 124,
     "metadata": {},
     "output_type": "execute_result"
    }
   ],
   "source": [
    "train_set.__getitem__(0)"
   ]
  },
  {
   "cell_type": "code",
   "execution_count": 125,
   "metadata": {},
   "outputs": [
    {
     "name": "stdout",
     "output_type": "stream",
     "text": [
      "tensor([1., 0., 0., 0., 0., 0., 0., 0., 1., 0., 0., 0., 1., 0., 0., 0., 1.])\n"
     ]
    }
   ],
   "source": [
    "t,w,x,y,z = train_set.__getitem__(0)\n",
    "test_input = torch.cat([w, x, y, z],0)\n",
    "print(test_input)"
   ]
  },
  {
   "cell_type": "code",
   "execution_count": 126,
   "metadata": {},
   "outputs": [
    {
     "data": {
      "text/plain": [
       "torch.Size([17])"
      ]
     },
     "execution_count": 126,
     "metadata": {},
     "output_type": "execute_result"
    }
   ],
   "source": [
    "test_input.size()"
   ]
  },
  {
   "cell_type": "code",
   "execution_count": 418,
   "metadata": {},
   "outputs": [],
   "source": [
    "class DeepFM(nn.Module):\n",
    "    def __init__(self, field_dic, emb_dim, num_factors, mlp_dims, drop_rate=0.1):\n",
    "        super(DeepFM, self).__init__()\n",
    "        \n",
    "        self.ind_embedding = nn.Embedding(field_dic, emb_dim)\n",
    "        self.car_embedding = nn.Embedding(field_dic, emb_dim)\n",
    "        self.reg_embedding = nn.Embedding(field_dic, emb_dim)\n",
    "        self.calc_embedding = nn.Embedding(field_dic, emb_dim)\n",
    "        \n",
    "        self.fc = nn.Embedding(field_dic, 1)\n",
    "        self.linear_layer = nn.Linear(1,1)\n",
    "        \n",
    "        input_dim = self.embed_output_dim = num_factors*emb_dim\n",
    "        self.modules = []\n",
    "        for dim in mlp_dims:      \n",
    "            self.modules.append(nn.Linear(input_dim, dim))\n",
    "            self.modules.append(nn.Sigmoid())\n",
    "            self.modules.append(nn.Dropout(drop_rate))\n",
    "            input_dim = dim\n",
    "        self.modules.append(nn.Linear(dim,1))\n",
    "        self.mlp = nn.Sequential(*self.modules)\n",
    "        \n",
    "        self.classify_layer = nn.Linear(1,2)\n",
    "        \n",
    "    def forward(self, ind, car, reg, calc):\n",
    "        x = torch.cat([ind, car, reg, calc],1).to(device)\n",
    "        \n",
    "        embed_ind = self.ind_embedding(ind)\n",
    "        embed_car = self.car_embedding(car)\n",
    "        embed_reg = self.reg_embedding(reg)\n",
    "        embed_calc = self.calc_embedding(calc)\n",
    "        embed_x = torch.cat([embed_ind, embed_car, embed_reg, embed_calc],1).to(device)\n",
    "\n",
    "        square_of_sum = torch.sum(embed_x, 1) ** 2\n",
    "        sum_of_square = torch.sum(embed_x ** 2, 1)\n",
    "        \n",
    "        inputs = embed_x.view(list(x.size())[0],-1)\n",
    "\n",
    "        x = self.linear_layer(self.fc(x).sum(1)) + 0.5 * (square_of_sum - sum_of_square).sum(1, keepdims=True) + self.mlp(inputs)\n",
    "        \n",
    "        x = self.classify_layer(x)\n",
    "        x = torch.sigmoid(x)\n",
    "\n",
    "        return x\n",
    "    "
   ]
  },
  {
   "cell_type": "code",
   "execution_count": 424,
   "metadata": {},
   "outputs": [],
   "source": [
    "dic = [0,1,-1]\n",
    "factor = [11,0,0,6]\n",
    "\n",
    "net = DeepFM(field_dic=3, emb_dim=3, num_factors=sum(factor), mlp_dims=[30, 20, 10]).to(device)"
   ]
  },
  {
   "cell_type": "code",
   "execution_count": 425,
   "metadata": {},
   "outputs": [
    {
     "data": {
      "text/plain": [
       "DeepFM(\n",
       "  (ind_embedding): Embedding(3, 3)\n",
       "  (car_embedding): Embedding(3, 3)\n",
       "  (reg_embedding): Embedding(3, 3)\n",
       "  (calc_embedding): Embedding(3, 3)\n",
       "  (fc): Embedding(3, 1)\n",
       "  (linear_layer): Linear(in_features=1, out_features=1, bias=True)\n",
       "  (mlp): Sequential(\n",
       "    (0): Linear(in_features=51, out_features=30, bias=True)\n",
       "    (1): Sigmoid()\n",
       "    (2): Dropout(p=0.1, inplace=False)\n",
       "    (3): Linear(in_features=30, out_features=20, bias=True)\n",
       "    (4): Sigmoid()\n",
       "    (5): Dropout(p=0.1, inplace=False)\n",
       "    (6): Linear(in_features=20, out_features=10, bias=True)\n",
       "    (7): Sigmoid()\n",
       "    (8): Dropout(p=0.1, inplace=False)\n",
       "    (9): Linear(in_features=10, out_features=1, bias=True)\n",
       "  )\n",
       "  (classify_layer): Linear(in_features=1, out_features=2, bias=True)\n",
       ")"
      ]
     },
     "execution_count": 425,
     "metadata": {},
     "output_type": "execute_result"
    }
   ],
   "source": [
    "net #target, ps_ind 18, ps_car 16, ps_reg 3, ps_calc 20"
   ]
  },
  {
   "cell_type": "code",
   "execution_count": 426,
   "metadata": {},
   "outputs": [],
   "source": [
    "optimizer = optim.Adam(net.parameters())\n",
    "loss_fn = torch.nn.CrossEntropyLoss()"
   ]
  },
  {
   "cell_type": "code",
   "execution_count": 427,
   "metadata": {},
   "outputs": [],
   "source": [
    "BATCH_SIZE = 100\n",
    "train_data = DataLoader(train_set, shuffle=True, batch_size=BATCH_SIZE)\n",
    "iter = len(train_data)"
   ]
  },
  {
   "cell_type": "code",
   "execution_count": 428,
   "metadata": {},
   "outputs": [
    {
     "name": "stdout",
     "output_type": "stream",
     "text": [
      "*****e : 0 L : 0.37850112826851706*****\n",
      "*****e : 1 L : 0.3500160703441404*****\n",
      "*****e : 2 L : 0.34994018227956475*****\n",
      "*****e : 3 L : 0.3500011481055433*****\n",
      "*****e : 4 L : 0.34991887571428903*****\n",
      "*****e : 5 L : 0.34991656223474243*****\n",
      "*****e : 6 L : 0.3499923803123322*****\n",
      "*****e : 7 L : 0.35006878508600836*****\n",
      "*****e : 8 L : 0.34991460041009115*****\n",
      "*****e : 9 L : 0.34991445759035733*****\n"
     ]
    }
   ],
   "source": [
    "# [batch, ind_dim] [batch, car_dim] [batch, reg_dim] [batch, calc_dim]\n",
    "for e in range(10): #lucky number\n",
    "    \n",
    "    mean_loss = 0\n",
    "    count = 0\n",
    "    \n",
    "    for t, ind, car, reg, calc  in train_data:\n",
    "        \n",
    "        try:\n",
    "            optimizer.zero_grad()\n",
    "\n",
    "            output =  net(ind.type(torch.LongTensor), car.type(torch.LongTensor), reg.type(torch.LongTensor), calc.type(torch.LongTensor))\n",
    "            # output[batch, 2]\n",
    "            loss = loss_fn(output, t.type(torch.LongTensor))\n",
    "            loss.backward()\n",
    "            optimizer.step()\n",
    "\n",
    "            count += 1\n",
    "            mean_loss+=float(loss)\n",
    "            \n",
    "        except RuntimeError:\n",
    "            print('error.....1')\n",
    "        except AttributeError: \n",
    "            print('error.....2')\n",
    "#         else:\n",
    "#             print(\"e : \" + str(e) + ' (' + str(count) + '/' + str(iter) + ') loss : ' + str(float(loss)) )\n",
    "\n",
    "    print(\"*****e : \"+str(e)+\" L : \"+str(mean_loss/count)+\"*****\")\n",
    "        \n",
    "    torch.save(net, \"./DeepFM_\"+str(e)+\".pkl\")"
   ]
  },
  {
   "cell_type": "markdown",
   "metadata": {},
   "source": [
    "# test"
   ]
  },
  {
   "cell_type": "code",
   "execution_count": 433,
   "metadata": {},
   "outputs": [],
   "source": [
    "test_set = insuranceDataset(df[-90000:].reset_index(drop=True))"
   ]
  },
  {
   "cell_type": "code",
   "execution_count": 434,
   "metadata": {},
   "outputs": [
    {
     "data": {
      "text/plain": [
       "90000"
      ]
     },
     "execution_count": 434,
     "metadata": {},
     "output_type": "execute_result"
    }
   ],
   "source": [
    "len(test_set)"
   ]
  },
  {
   "cell_type": "code",
   "execution_count": 435,
   "metadata": {},
   "outputs": [],
   "source": [
    "test_data = DataLoader(train_set, shuffle=False, batch_size=1)"
   ]
  },
  {
   "cell_type": "code",
   "execution_count": 441,
   "metadata": {},
   "outputs": [
    {
     "name": "stdout",
     "output_type": "stream",
     "text": [
      "91719 / 95212  acc : 0.9633134478847204\n"
     ]
    }
   ],
   "source": [
    "hit = 0\n",
    "count = 0\n",
    "\n",
    "for t, ind, car, reg, calc  in test_data:\n",
    "\n",
    "    with torch.no_grad():\n",
    "\n",
    "\n",
    "        output =  net(ind.type(torch.LongTensor), car.type(torch.LongTensor), reg.type(torch.LongTensor), calc.type(torch.LongTensor))\n",
    "        \n",
    "        predict = torch.argmax(output)\n",
    "        \n",
    "#         print(output, predict, t)\n",
    "\n",
    "        count += 1\n",
    "        \n",
    "        if int(predict) == int(t):\n",
    "            hit += 1\n",
    "        \n",
    "        \n",
    "print( str(hit) + \" / \" + str(count) + \"  acc : \"  +str(hit/count))"
   ]
  },
  {
   "cell_type": "code",
   "execution_count": null,
   "metadata": {},
   "outputs": [],
   "source": []
  }
 ],
 "metadata": {
  "kernelspec": {
   "display_name": "Python 3",
   "language": "python",
   "name": "python3"
  },
  "language_info": {
   "codemirror_mode": {
    "name": "ipython",
    "version": 3
   },
   "file_extension": ".py",
   "mimetype": "text/x-python",
   "name": "python",
   "nbconvert_exporter": "python",
   "pygments_lexer": "ipython3",
   "version": "3.7.6"
  }
 },
 "nbformat": 4,
 "nbformat_minor": 4
}
